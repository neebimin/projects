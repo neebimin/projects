{
 "cells": [
  {
   "cell_type": "markdown",
   "metadata": {},
   "source": [
    "# Project 3: Suicide Watch"
   ]
  },
  {
   "cell_type": "markdown",
   "metadata": {},
   "source": [
    "## Notebook 1: Data Collection, Cleaning and Preprocessing"
   ]
  },
  {
   "cell_type": "markdown",
   "metadata": {},
   "source": [
    "This notebook contains the Problem Statement and Executive Summary followed by codes for data collection, data cleaning and preprocessing.\n",
    "\n",
    "Preprocessing here consists of both stemming and lemmatizing, after which data can be visualised in the next notebook."
   ]
  },
  {
   "cell_type": "markdown",
   "metadata": {},
   "source": [
    "## Problem Statement"
   ]
  },
  {
   "cell_type": "markdown",
   "metadata": {},
   "source": [
    "To predict the language used by individuals who are suicidal versus depressed using webscraped data from subreddits Suicide Watch and depression using Multinomial Naive Bayes and Logistic Regression. The subreddits allow for free expression of emotions, which helps us to study the difference between those who are depressed and suicidal in the most honest form. The information can help counsellors and psychologists in schools to classify children and adolescents into 'high-alert' cases if they are predicted to be suicidal so that more attention can be given to them.\n",
    "\n",
    "Success will be evaluated by accuracy, precision, recall and f1-score. For this problem, recall is the most important metric because we want to identify as many possible cases of suicidal individuals as possible. The cost of not identifying them is a matter of life and death and it also does not hurt to be on high alert for those who were wrongly identified to be suicidal."
   ]
  },
  {
   "cell_type": "markdown",
   "metadata": {},
   "source": [
    "## Executive Summary\n",
    "\n",
    "The number of suicides in Singapore rose 10 per cent last year, with suicides among boys aged 10 to 19 at a record high, according to the Samaritans of Singapore (SOS). Against this backdrop, we investigate how we can better identify potential cases of suicide by looking at the words used by these individuals.\n",
    "\n",
    "The subreddits Suicide Watch and depression will be used to help in the study of the language used. They offer firsthand accounts into the thought processes and emotional experiences of these individuals. The posts are cleaned by removing stopwords and pins by moderators and subsequently, the Multinomial Naive Bayes, Logistic Regression and K-nearest Neighbours models were run with Count and Tfidf Vectorizer. The better models - Multinomial Naive Bayes and Logistic Regression with Tfidf Vectorizer were then optimised before selecting the best model as the production model. \n",
    "\n",
    "The model that was found to be of the highest recall/ sensitivity (81%) was Tfidf Vectorizer with Multinomial Naive Bayes. This means that 81% of suicidal cases were identified correctly. It will be helpful for psychologists and counsellors in a school setting to be more sensitive to such cases and be on high alert to prevent loss of lives.\n",
    "\n",
    "### Contents\n",
    "- [Data Collection](#Data-Collection)\n",
    "- [Data Cleaning and EDA](#Data-Cleaning-and-EDA)\n",
    "    * [Combine Features](#Combine-Features)\n",
    "- [Pre-processing](#Preprocessing)\n",
    "    * [Tokenizing](#Tokenizing)\n",
    "    * [Lemmatizing](#Lemmatizing)\n",
    "    * [Stemming](#Stemming)"
   ]
  },
  {
   "cell_type": "markdown",
   "metadata": {},
   "source": [
    "### Data Collection"
   ]
  },
  {
   "cell_type": "code",
   "execution_count": 1,
   "metadata": {},
   "outputs": [],
   "source": [
    "# Read in libraries\n",
    "import requests\n",
    "import time\n",
    "import pandas as pd\n",
    "import random\n",
    "import re\n",
    "\n",
    "from nltk.stem import WordNetLemmatizer\n",
    "from nltk.tokenize import RegexpTokenizer\n",
    "from nltk.stem.porter import PorterStemmer\n",
    "from nltk.corpus import stopwords\n",
    "\n",
    "from sklearn.model_selection import train_test_split"
   ]
  },
  {
   "cell_type": "markdown",
   "metadata": {},
   "source": [
    "The following has been commented out to prevent re-scraping of data."
   ]
  },
  {
   "cell_type": "code",
   "execution_count": 2,
   "metadata": {
    "scrolled": true
   },
   "outputs": [],
   "source": [
    "# #Loop through 25 depression posts at a time\n",
    "# depression_posts = []\n",
    "# after = None\n",
    "# url0 = 'https://www.reddit.com/r/depression/.json'\n",
    "\n",
    "# for a in range(41):\n",
    "#     if after == None:\n",
    "#         current_url = url0\n",
    "#     else:\n",
    "#         current_url = url0 + '?after=' + after\n",
    "#     print(current_url)\n",
    "#     res = requests.get(current_url, headers={'User-agent': 'Pony Inc 1.0'})\n",
    "    \n",
    "#     if res.status_code != 200:\n",
    "#         print('Status error', res.status_code)\n",
    "#         break\n",
    "    \n",
    "#     current_dict = res.json()\n",
    "#     current_posts = [p['data'] for p in current_dict['data']['children']]\n",
    "#     depression_posts.extend(current_posts)\n",
    "#     after = current_dict['data']['after']\n",
    "    \n",
    "#     if a > 0:\n",
    "#         prev_posts = pd.read_csv('../datasets/depression.csv')\n",
    "#         current_df = pd.DataFrame()\n",
    "        \n",
    "#     else:\n",
    "#         pd.DataFrame(depression_posts).to_csv('../datasets/depression.csv', index = False)\n",
    "\n",
    "#     # generate a random sleep duration to look more 'natural'\n",
    "#     sleep_duration = random.randint(2,6)\n",
    "#     print(sleep_duration)\n",
    "#     time.sleep(sleep_duration)"
   ]
  },
  {
   "cell_type": "code",
   "execution_count": 3,
   "metadata": {},
   "outputs": [],
   "source": [
    "# Check the number of posts\n",
    "# print('The number of depression posts scraped: {}'.format(len(depression_posts)))"
   ]
  },
  {
   "cell_type": "code",
   "execution_count": 4,
   "metadata": {},
   "outputs": [],
   "source": [
    "# Commented out the code below to prevent overwriting of saved dataset\n",
    "# pd.DataFrame(depression_posts).to_csv('../datasets/depression.csv', index = False)"
   ]
  },
  {
   "cell_type": "code",
   "execution_count": 5,
   "metadata": {},
   "outputs": [],
   "source": [
    "# Display scraped posts in a dataframe\n",
    "# depression = pd.DataFrame(depression_posts)\n",
    "# depression.head()"
   ]
  },
  {
   "cell_type": "code",
   "execution_count": 6,
   "metadata": {
    "scrolled": true
   },
   "outputs": [],
   "source": [
    "# # Loop through 25 suicide posts at a time\n",
    "# suicide_posts = []\n",
    "# after = None\n",
    "# url1 = 'https://www.reddit.com/r/SuicideWatch/.json'\n",
    "\n",
    "# # Loop for 40 times:\n",
    "# for a in range(41):\n",
    "#     if after == None:\n",
    "#         current_url = url1\n",
    "#     else:\n",
    "#         current_url = url1 + '?after=' + after\n",
    "#     print(current_url)\n",
    "#     res = requests.get(current_url, headers={'User-agent': 'Beep Inc 1.0'})\n",
    "    \n",
    "#     if res.status_code != 200:\n",
    "#         print('Status error', res.status_code)\n",
    "#         break\n",
    "    \n",
    "#     current_dict = res.json()\n",
    "#     current_posts = [p['data'] for p in current_dict['data']['children']]\n",
    "#     suicide_posts.extend(current_posts)\n",
    "#     after = current_dict['data']['after']\n",
    "    \n",
    "#     if a > 0:\n",
    "#         prev_posts = pd.read_csv('..datasets/suicide.csv')\n",
    "#         current_df = pd.DataFrame()\n",
    "        \n",
    "#     else:\n",
    "#         pd.DataFrame(suicide_posts).to_csv('..datasets/suicide.csv', index = False)\n",
    "\n",
    "#     # generate a random sleep duration to look more 'natural'\n",
    "#     sleep_duration = random.randint(2,6)\n",
    "#     print(sleep_duration)\n",
    "#     time.sleep(sleep_duration)"
   ]
  },
  {
   "cell_type": "code",
   "execution_count": 7,
   "metadata": {},
   "outputs": [],
   "source": [
    "# Check the number of posts\n",
    "# print('The number of suicide posts scraped: {}'.format(len(suicide_posts)))"
   ]
  },
  {
   "cell_type": "code",
   "execution_count": 8,
   "metadata": {},
   "outputs": [],
   "source": [
    "# Commented out the code below to prevent overwriting of saved dataset\n",
    "# pd.DataFrame(suicide_posts).to_csv('../datasets/suicide.csv', index = False)"
   ]
  },
  {
   "cell_type": "code",
   "execution_count": 9,
   "metadata": {},
   "outputs": [],
   "source": [
    "# Display scraped posts in a dataframe\n",
    "# suicide = pd.DataFrame(suicide_posts)\n",
    "# suicide.head()"
   ]
  },
  {
   "cell_type": "markdown",
   "metadata": {},
   "source": [
    "### Data Cleaning and EDA"
   ]
  },
  {
   "cell_type": "code",
   "execution_count": 10,
   "metadata": {},
   "outputs": [],
   "source": [
    "# Import data from saved csv file\n",
    "depression = pd.read_csv('../datasets/depression.csv')\n",
    "suicide = pd.read_csv('../datasets/suicide.csv')"
   ]
  },
  {
   "cell_type": "code",
   "execution_count": 11,
   "metadata": {},
   "outputs": [
    {
     "name": "stdout",
     "output_type": "stream",
     "text": [
      "Missing values in depression selftext column: 1\n",
      "Missing values in depression title column: 0\n"
     ]
    }
   ],
   "source": [
    "# Check for missing values in depression dataframe\n",
    "print('Missing values in depression selftext column: {}' .format(depression.selftext.isnull().sum()))\n",
    "print('Missing values in depression title column: {}' .format(depression.title.isnull().sum()))"
   ]
  },
  {
   "cell_type": "code",
   "execution_count": 12,
   "metadata": {},
   "outputs": [],
   "source": [
    "# Impute missing value with empty string\n",
    "depression.selftext.fillna('', inplace=True)"
   ]
  },
  {
   "cell_type": "code",
   "execution_count": 13,
   "metadata": {},
   "outputs": [
    {
     "name": "stdout",
     "output_type": "stream",
     "text": [
      "Missing values in depression selftext column: 0\n"
     ]
    }
   ],
   "source": [
    "# Check if it has been imputed\n",
    "print('Missing values in depression selftext column: {}' .format(depression.selftext.isnull().sum()))"
   ]
  },
  {
   "cell_type": "code",
   "execution_count": 14,
   "metadata": {},
   "outputs": [
    {
     "name": "stdout",
     "output_type": "stream",
     "text": [
      "Missing values in suicide selftext column: 61\n",
      "Missing values in suicide title column: 0\n"
     ]
    }
   ],
   "source": [
    "# Check for missing values in suicide dataframe\n",
    "print('Missing values in suicide selftext column: {}' .format(suicide.selftext.isnull().sum()))\n",
    "print('Missing values in suicide title column: {}' .format(suicide.title.isnull().sum()))"
   ]
  },
  {
   "cell_type": "code",
   "execution_count": 15,
   "metadata": {},
   "outputs": [
    {
     "name": "stdout",
     "output_type": "stream",
     "text": [
      "Missing values in suicide selftext column: 0\n"
     ]
    }
   ],
   "source": [
    "# Impute missing value with empty string\n",
    "suicide.selftext.fillna('', inplace=True)\n",
    "\n",
    "# Check if it has been imputed\n",
    "print('Missing values in suicide selftext column: {}' .format(suicide.selftext.isnull().sum()))"
   ]
  },
  {
   "cell_type": "markdown",
   "metadata": {},
   "source": [
    "#### Combine Features"
   ]
  },
  {
   "cell_type": "code",
   "execution_count": 16,
   "metadata": {
    "scrolled": true
   },
   "outputs": [
    {
     "data": {
      "text/plain": [
       "(104, 100)"
      ]
     },
     "execution_count": 16,
     "metadata": {},
     "output_type": "execute_result"
    }
   ],
   "source": [
    "# Select all duplicate rows based on one column\n",
    "depression_dup = depression[depression.duplicated(['selftext'])]\n",
    "\n",
    "# Check the number of duplicates\n",
    "depression_dup.shape"
   ]
  },
  {
   "cell_type": "code",
   "execution_count": 17,
   "metadata": {},
   "outputs": [
    {
     "data": {
      "text/html": [
       "<div>\n",
       "<style scoped>\n",
       "    .dataframe tbody tr th:only-of-type {\n",
       "        vertical-align: middle;\n",
       "    }\n",
       "\n",
       "    .dataframe tbody tr th {\n",
       "        vertical-align: top;\n",
       "    }\n",
       "\n",
       "    .dataframe thead th {\n",
       "        text-align: right;\n",
       "    }\n",
       "</style>\n",
       "<table border=\"1\" class=\"dataframe\">\n",
       "  <thead>\n",
       "    <tr style=\"text-align: right;\">\n",
       "      <th></th>\n",
       "      <th>approved_at_utc</th>\n",
       "      <th>subreddit</th>\n",
       "      <th>selftext</th>\n",
       "      <th>author_fullname</th>\n",
       "      <th>saved</th>\n",
       "      <th>mod_reason_title</th>\n",
       "      <th>gilded</th>\n",
       "      <th>clicked</th>\n",
       "      <th>title</th>\n",
       "      <th>link_flair_richtext</th>\n",
       "      <th>...</th>\n",
       "      <th>permalink</th>\n",
       "      <th>parent_whitelist_status</th>\n",
       "      <th>stickied</th>\n",
       "      <th>url</th>\n",
       "      <th>subreddit_subscribers</th>\n",
       "      <th>created_utc</th>\n",
       "      <th>num_crossposts</th>\n",
       "      <th>media</th>\n",
       "      <th>is_video</th>\n",
       "      <th>author_cakeday</th>\n",
       "    </tr>\n",
       "  </thead>\n",
       "  <tbody>\n",
       "    <tr>\n",
       "      <th>0</th>\n",
       "      <td>NaN</td>\n",
       "      <td>depression</td>\n",
       "      <td>We understand that most people who reply immed...</td>\n",
       "      <td>t2_1t70</td>\n",
       "      <td>False</td>\n",
       "      <td>NaN</td>\n",
       "      <td>0</td>\n",
       "      <td>False</td>\n",
       "      <td>Our most-broken and least-understood rules is ...</td>\n",
       "      <td>[]</td>\n",
       "      <td>...</td>\n",
       "      <td>/r/depression/comments/doqwow/our_mostbroken_a...</td>\n",
       "      <td>no_ads</td>\n",
       "      <td>True</td>\n",
       "      <td>https://www.reddit.com/r/depression/comments/d...</td>\n",
       "      <td>611712</td>\n",
       "      <td>1.572361e+09</td>\n",
       "      <td>0</td>\n",
       "      <td>NaN</td>\n",
       "      <td>False</td>\n",
       "      <td>NaN</td>\n",
       "    </tr>\n",
       "    <tr>\n",
       "      <th>1</th>\n",
       "      <td>NaN</td>\n",
       "      <td>depression</td>\n",
       "      <td>Welcome to /r/depression's check-in post - a p...</td>\n",
       "      <td>t2_64qjj</td>\n",
       "      <td>False</td>\n",
       "      <td>NaN</td>\n",
       "      <td>0</td>\n",
       "      <td>False</td>\n",
       "      <td>Regular Check-In Post</td>\n",
       "      <td>[]</td>\n",
       "      <td>...</td>\n",
       "      <td>/r/depression/comments/exo6f1/regular_checkin_...</td>\n",
       "      <td>no_ads</td>\n",
       "      <td>True</td>\n",
       "      <td>https://www.reddit.com/r/depression/comments/e...</td>\n",
       "      <td>611712</td>\n",
       "      <td>1.580649e+09</td>\n",
       "      <td>0</td>\n",
       "      <td>NaN</td>\n",
       "      <td>False</td>\n",
       "      <td>NaN</td>\n",
       "    </tr>\n",
       "    <tr>\n",
       "      <th>2</th>\n",
       "      <td>NaN</td>\n",
       "      <td>depression</td>\n",
       "      <td>I've been feeling really depressed and lonely ...</td>\n",
       "      <td>t2_17aooz</td>\n",
       "      <td>False</td>\n",
       "      <td>NaN</td>\n",
       "      <td>0</td>\n",
       "      <td>False</td>\n",
       "      <td>I hate it so much when you try and express you...</td>\n",
       "      <td>[]</td>\n",
       "      <td>...</td>\n",
       "      <td>/r/depression/comments/fedwbi/i_hate_it_so_muc...</td>\n",
       "      <td>no_ads</td>\n",
       "      <td>False</td>\n",
       "      <td>https://www.reddit.com/r/depression/comments/f...</td>\n",
       "      <td>611712</td>\n",
       "      <td>1.583503e+09</td>\n",
       "      <td>0</td>\n",
       "      <td>NaN</td>\n",
       "      <td>False</td>\n",
       "      <td>NaN</td>\n",
       "    </tr>\n",
       "    <tr>\n",
       "      <th>3</th>\n",
       "      <td>NaN</td>\n",
       "      <td>depression</td>\n",
       "      <td>Seems like when anyone else in my life is feel...</td>\n",
       "      <td>t2_2e3v4lor</td>\n",
       "      <td>False</td>\n",
       "      <td>NaN</td>\n",
       "      <td>0</td>\n",
       "      <td>False</td>\n",
       "      <td>I'm tired of caring about other people, but no...</td>\n",
       "      <td>[]</td>\n",
       "      <td>...</td>\n",
       "      <td>/r/depression/comments/feh19t/im_tired_of_cari...</td>\n",
       "      <td>no_ads</td>\n",
       "      <td>False</td>\n",
       "      <td>https://www.reddit.com/r/depression/comments/f...</td>\n",
       "      <td>611712</td>\n",
       "      <td>1.583516e+09</td>\n",
       "      <td>0</td>\n",
       "      <td>NaN</td>\n",
       "      <td>False</td>\n",
       "      <td>NaN</td>\n",
       "    </tr>\n",
       "    <tr>\n",
       "      <th>4</th>\n",
       "      <td>NaN</td>\n",
       "      <td>depression</td>\n",
       "      <td>I literally broke down crying and asked to go ...</td>\n",
       "      <td>t2_5v2j4itq</td>\n",
       "      <td>False</td>\n",
       "      <td>NaN</td>\n",
       "      <td>0</td>\n",
       "      <td>False</td>\n",
       "      <td>I went to the hospital because I was having re...</td>\n",
       "      <td>[]</td>\n",
       "      <td>...</td>\n",
       "      <td>/r/depression/comments/feel0k/i_went_to_the_ho...</td>\n",
       "      <td>no_ads</td>\n",
       "      <td>False</td>\n",
       "      <td>https://www.reddit.com/r/depression/comments/f...</td>\n",
       "      <td>611712</td>\n",
       "      <td>1.583507e+09</td>\n",
       "      <td>0</td>\n",
       "      <td>NaN</td>\n",
       "      <td>False</td>\n",
       "      <td>NaN</td>\n",
       "    </tr>\n",
       "  </tbody>\n",
       "</table>\n",
       "<p>5 rows × 100 columns</p>\n",
       "</div>"
      ],
      "text/plain": [
       "   approved_at_utc   subreddit  \\\n",
       "0              NaN  depression   \n",
       "1              NaN  depression   \n",
       "2              NaN  depression   \n",
       "3              NaN  depression   \n",
       "4              NaN  depression   \n",
       "\n",
       "                                            selftext author_fullname  saved  \\\n",
       "0  We understand that most people who reply immed...         t2_1t70  False   \n",
       "1  Welcome to /r/depression's check-in post - a p...        t2_64qjj  False   \n",
       "2  I've been feeling really depressed and lonely ...       t2_17aooz  False   \n",
       "3  Seems like when anyone else in my life is feel...     t2_2e3v4lor  False   \n",
       "4  I literally broke down crying and asked to go ...     t2_5v2j4itq  False   \n",
       "\n",
       "   mod_reason_title  gilded  clicked  \\\n",
       "0               NaN       0    False   \n",
       "1               NaN       0    False   \n",
       "2               NaN       0    False   \n",
       "3               NaN       0    False   \n",
       "4               NaN       0    False   \n",
       "\n",
       "                                               title link_flair_richtext  ...  \\\n",
       "0  Our most-broken and least-understood rules is ...                  []  ...   \n",
       "1                              Regular Check-In Post                  []  ...   \n",
       "2  I hate it so much when you try and express you...                  []  ...   \n",
       "3  I'm tired of caring about other people, but no...                  []  ...   \n",
       "4  I went to the hospital because I was having re...                  []  ...   \n",
       "\n",
       "                                           permalink  parent_whitelist_status  \\\n",
       "0  /r/depression/comments/doqwow/our_mostbroken_a...                   no_ads   \n",
       "1  /r/depression/comments/exo6f1/regular_checkin_...                   no_ads   \n",
       "2  /r/depression/comments/fedwbi/i_hate_it_so_muc...                   no_ads   \n",
       "3  /r/depression/comments/feh19t/im_tired_of_cari...                   no_ads   \n",
       "4  /r/depression/comments/feel0k/i_went_to_the_ho...                   no_ads   \n",
       "\n",
       "   stickied                                                url  \\\n",
       "0      True  https://www.reddit.com/r/depression/comments/d...   \n",
       "1      True  https://www.reddit.com/r/depression/comments/e...   \n",
       "2     False  https://www.reddit.com/r/depression/comments/f...   \n",
       "3     False  https://www.reddit.com/r/depression/comments/f...   \n",
       "4     False  https://www.reddit.com/r/depression/comments/f...   \n",
       "\n",
       "   subreddit_subscribers   created_utc num_crossposts  media is_video  \\\n",
       "0                 611712  1.572361e+09              0    NaN    False   \n",
       "1                 611712  1.580649e+09              0    NaN    False   \n",
       "2                 611712  1.583503e+09              0    NaN    False   \n",
       "3                 611712  1.583516e+09              0    NaN    False   \n",
       "4                 611712  1.583507e+09              0    NaN    False   \n",
       "\n",
       "   author_cakeday  \n",
       "0             NaN  \n",
       "1             NaN  \n",
       "2             NaN  \n",
       "3             NaN  \n",
       "4             NaN  \n",
       "\n",
       "[5 rows x 100 columns]"
      ]
     },
     "execution_count": 17,
     "metadata": {},
     "output_type": "execute_result"
    }
   ],
   "source": [
    "# Checking some of the contents of the posts\n",
    "depression.head()"
   ]
  },
  {
   "cell_type": "markdown",
   "metadata": {},
   "source": [
    "The title contains useful descriptions as well. Join the two columns together.\n",
    "\n",
    "Notice that there are 2 pinned posts from the moderator, which will be removed later. The posts are not the voices of those who are suffering from depression but rather just setting the rules that regulate the posts. "
   ]
  },
  {
   "cell_type": "code",
   "execution_count": 18,
   "metadata": {},
   "outputs": [],
   "source": [
    "depression['title_selftext'] = depression['title'] + depression['selftext']"
   ]
  },
  {
   "cell_type": "code",
   "execution_count": 19,
   "metadata": {},
   "outputs": [
    {
     "data": {
      "text/plain": [
       "(104, 101)"
      ]
     },
     "execution_count": 19,
     "metadata": {},
     "output_type": "execute_result"
    }
   ],
   "source": [
    "# Check for duplicates again and get the number of duplicated posts\n",
    "depression_join_dup = depression[depression.duplicated(['title_selftext'])]\n",
    "depression_join_dup.shape"
   ]
  },
  {
   "cell_type": "code",
   "execution_count": 20,
   "metadata": {},
   "outputs": [
    {
     "data": {
      "text/plain": [
       "(914, 101)"
      ]
     },
     "execution_count": 20,
     "metadata": {},
     "output_type": "execute_result"
    }
   ],
   "source": [
    "# Drop duplicates\n",
    "depression.drop_duplicates(subset='title_selftext', keep='first', inplace=True)\n",
    "# Check shape of depression df after dropping\n",
    "depression.shape"
   ]
  },
  {
   "cell_type": "code",
   "execution_count": 21,
   "metadata": {},
   "outputs": [],
   "source": [
    "# Remove the pinned posts from the moderator\n",
    "depression.drop([0,1], inplace=True)"
   ]
  },
  {
   "cell_type": "code",
   "execution_count": 22,
   "metadata": {},
   "outputs": [
    {
     "data": {
      "text/plain": [
       "(88, 100)"
      ]
     },
     "execution_count": 22,
     "metadata": {},
     "output_type": "execute_result"
    }
   ],
   "source": [
    "# Select all duplicate rows based on one column and get the number of duplicate posts\n",
    "suicide_dup = suicide[suicide.duplicated(['selftext'])]\n",
    "suicide_dup.shape"
   ]
  },
  {
   "cell_type": "code",
   "execution_count": 23,
   "metadata": {
    "scrolled": true
   },
   "outputs": [
    {
     "data": {
      "text/html": [
       "<div>\n",
       "<style scoped>\n",
       "    .dataframe tbody tr th:only-of-type {\n",
       "        vertical-align: middle;\n",
       "    }\n",
       "\n",
       "    .dataframe tbody tr th {\n",
       "        vertical-align: top;\n",
       "    }\n",
       "\n",
       "    .dataframe thead th {\n",
       "        text-align: right;\n",
       "    }\n",
       "</style>\n",
       "<table border=\"1\" class=\"dataframe\">\n",
       "  <thead>\n",
       "    <tr style=\"text-align: right;\">\n",
       "      <th></th>\n",
       "      <th>approved_at_utc</th>\n",
       "      <th>subreddit</th>\n",
       "      <th>selftext</th>\n",
       "      <th>author_fullname</th>\n",
       "      <th>saved</th>\n",
       "      <th>mod_reason_title</th>\n",
       "      <th>gilded</th>\n",
       "      <th>clicked</th>\n",
       "      <th>title</th>\n",
       "      <th>link_flair_richtext</th>\n",
       "      <th>...</th>\n",
       "      <th>permalink</th>\n",
       "      <th>parent_whitelist_status</th>\n",
       "      <th>stickied</th>\n",
       "      <th>url</th>\n",
       "      <th>subreddit_subscribers</th>\n",
       "      <th>created_utc</th>\n",
       "      <th>num_crossposts</th>\n",
       "      <th>media</th>\n",
       "      <th>is_video</th>\n",
       "      <th>author_cakeday</th>\n",
       "    </tr>\n",
       "  </thead>\n",
       "  <tbody>\n",
       "    <tr>\n",
       "      <th>15</th>\n",
       "      <td>NaN</td>\n",
       "      <td>SuicideWatch</td>\n",
       "      <td></td>\n",
       "      <td>t2_6ur9j</td>\n",
       "      <td>False</td>\n",
       "      <td>NaN</td>\n",
       "      <td>0</td>\n",
       "      <td>False</td>\n",
       "      <td>I have two brothers who have killed themselves...</td>\n",
       "      <td>[]</td>\n",
       "      <td>...</td>\n",
       "      <td>/r/SuicideWatch/comments/feenlk/i_have_two_bro...</td>\n",
       "      <td>no_ads</td>\n",
       "      <td>False</td>\n",
       "      <td>https://www.reddit.com/r/SuicideWatch/comments...</td>\n",
       "      <td>188688</td>\n",
       "      <td>1.583507e+09</td>\n",
       "      <td>0</td>\n",
       "      <td>NaN</td>\n",
       "      <td>False</td>\n",
       "      <td>NaN</td>\n",
       "    </tr>\n",
       "    <tr>\n",
       "      <th>57</th>\n",
       "      <td>NaN</td>\n",
       "      <td>SuicideWatch</td>\n",
       "      <td></td>\n",
       "      <td>t2_35asc889</td>\n",
       "      <td>False</td>\n",
       "      <td>NaN</td>\n",
       "      <td>0</td>\n",
       "      <td>False</td>\n",
       "      <td>I give up</td>\n",
       "      <td>[]</td>\n",
       "      <td>...</td>\n",
       "      <td>/r/SuicideWatch/comments/fepwuq/i_give_up/</td>\n",
       "      <td>no_ads</td>\n",
       "      <td>False</td>\n",
       "      <td>https://www.reddit.com/r/SuicideWatch/comments...</td>\n",
       "      <td>188688</td>\n",
       "      <td>1.583554e+09</td>\n",
       "      <td>0</td>\n",
       "      <td>NaN</td>\n",
       "      <td>False</td>\n",
       "      <td>NaN</td>\n",
       "    </tr>\n",
       "    <tr>\n",
       "      <th>62</th>\n",
       "      <td>NaN</td>\n",
       "      <td>SuicideWatch</td>\n",
       "      <td></td>\n",
       "      <td>t2_5f7xbhrc</td>\n",
       "      <td>False</td>\n",
       "      <td>NaN</td>\n",
       "      <td>0</td>\n",
       "      <td>False</td>\n",
       "      <td>Nobody gives a fuck until you die, and even th...</td>\n",
       "      <td>[]</td>\n",
       "      <td>...</td>\n",
       "      <td>/r/SuicideWatch/comments/fea9x1/nobody_gives_a...</td>\n",
       "      <td>no_ads</td>\n",
       "      <td>False</td>\n",
       "      <td>https://www.reddit.com/r/SuicideWatch/comments...</td>\n",
       "      <td>188688</td>\n",
       "      <td>1.583481e+09</td>\n",
       "      <td>0</td>\n",
       "      <td>NaN</td>\n",
       "      <td>False</td>\n",
       "      <td>NaN</td>\n",
       "    </tr>\n",
       "    <tr>\n",
       "      <th>80</th>\n",
       "      <td>NaN</td>\n",
       "      <td>SuicideWatch</td>\n",
       "      <td></td>\n",
       "      <td>t2_3gs1nbv2</td>\n",
       "      <td>False</td>\n",
       "      <td>NaN</td>\n",
       "      <td>0</td>\n",
       "      <td>False</td>\n",
       "      <td>One day, I’ll step in front of a moving truck ...</td>\n",
       "      <td>[]</td>\n",
       "      <td>...</td>\n",
       "      <td>/r/SuicideWatch/comments/feokwz/one_day_ill_st...</td>\n",
       "      <td>NaN</td>\n",
       "      <td>False</td>\n",
       "      <td>https://www.reddit.com/r/SuicideWatch/comments...</td>\n",
       "      <td>188688</td>\n",
       "      <td>1.583548e+09</td>\n",
       "      <td>0</td>\n",
       "      <td>NaN</td>\n",
       "      <td>False</td>\n",
       "      <td>NaN</td>\n",
       "    </tr>\n",
       "    <tr>\n",
       "      <th>95</th>\n",
       "      <td>NaN</td>\n",
       "      <td>SuicideWatch</td>\n",
       "      <td></td>\n",
       "      <td>t2_467pkhb3</td>\n",
       "      <td>False</td>\n",
       "      <td>NaN</td>\n",
       "      <td>0</td>\n",
       "      <td>False</td>\n",
       "      <td>If someone checks themselves into a psych hosp...</td>\n",
       "      <td>[]</td>\n",
       "      <td>...</td>\n",
       "      <td>/r/SuicideWatch/comments/feqiyb/if_someone_che...</td>\n",
       "      <td>NaN</td>\n",
       "      <td>False</td>\n",
       "      <td>https://www.reddit.com/r/SuicideWatch/comments...</td>\n",
       "      <td>188688</td>\n",
       "      <td>1.583558e+09</td>\n",
       "      <td>0</td>\n",
       "      <td>NaN</td>\n",
       "      <td>False</td>\n",
       "      <td>NaN</td>\n",
       "    </tr>\n",
       "  </tbody>\n",
       "</table>\n",
       "<p>5 rows × 100 columns</p>\n",
       "</div>"
      ],
      "text/plain": [
       "    approved_at_utc     subreddit selftext author_fullname  saved  \\\n",
       "15              NaN  SuicideWatch                 t2_6ur9j  False   \n",
       "57              NaN  SuicideWatch              t2_35asc889  False   \n",
       "62              NaN  SuicideWatch              t2_5f7xbhrc  False   \n",
       "80              NaN  SuicideWatch              t2_3gs1nbv2  False   \n",
       "95              NaN  SuicideWatch              t2_467pkhb3  False   \n",
       "\n",
       "    mod_reason_title  gilded  clicked  \\\n",
       "15               NaN       0    False   \n",
       "57               NaN       0    False   \n",
       "62               NaN       0    False   \n",
       "80               NaN       0    False   \n",
       "95               NaN       0    False   \n",
       "\n",
       "                                                title link_flair_richtext  \\\n",
       "15  I have two brothers who have killed themselves...                  []   \n",
       "57                                          I give up                  []   \n",
       "62  Nobody gives a fuck until you die, and even th...                  []   \n",
       "80  One day, I’ll step in front of a moving truck ...                  []   \n",
       "95  If someone checks themselves into a psych hosp...                  []   \n",
       "\n",
       "    ...                                          permalink  \\\n",
       "15  ...  /r/SuicideWatch/comments/feenlk/i_have_two_bro...   \n",
       "57  ...         /r/SuicideWatch/comments/fepwuq/i_give_up/   \n",
       "62  ...  /r/SuicideWatch/comments/fea9x1/nobody_gives_a...   \n",
       "80  ...  /r/SuicideWatch/comments/feokwz/one_day_ill_st...   \n",
       "95  ...  /r/SuicideWatch/comments/feqiyb/if_someone_che...   \n",
       "\n",
       "    parent_whitelist_status  stickied  \\\n",
       "15                   no_ads     False   \n",
       "57                   no_ads     False   \n",
       "62                   no_ads     False   \n",
       "80                      NaN     False   \n",
       "95                      NaN     False   \n",
       "\n",
       "                                                  url  subreddit_subscribers  \\\n",
       "15  https://www.reddit.com/r/SuicideWatch/comments...                 188688   \n",
       "57  https://www.reddit.com/r/SuicideWatch/comments...                 188688   \n",
       "62  https://www.reddit.com/r/SuicideWatch/comments...                 188688   \n",
       "80  https://www.reddit.com/r/SuicideWatch/comments...                 188688   \n",
       "95  https://www.reddit.com/r/SuicideWatch/comments...                 188688   \n",
       "\n",
       "     created_utc num_crossposts  media is_video  author_cakeday  \n",
       "15  1.583507e+09              0    NaN    False             NaN  \n",
       "57  1.583554e+09              0    NaN    False             NaN  \n",
       "62  1.583481e+09              0    NaN    False             NaN  \n",
       "80  1.583548e+09              0    NaN    False             NaN  \n",
       "95  1.583558e+09              0    NaN    False             NaN  \n",
       "\n",
       "[5 rows x 100 columns]"
      ]
     },
     "execution_count": 23,
     "metadata": {},
     "output_type": "execute_result"
    }
   ],
   "source": [
    "# Check the duplicated data\n",
    "suicide_dup.head()"
   ]
  },
  {
   "cell_type": "markdown",
   "metadata": {},
   "source": [
    "There are contents in the title that seem to be useful but are not in the selftext. There are also some empty selftext columns. The two columns will be joined to get all the texts, similar to the depression posts."
   ]
  },
  {
   "cell_type": "code",
   "execution_count": 24,
   "metadata": {},
   "outputs": [],
   "source": [
    "suicide['title_selftext'] = suicide['title'] + suicide['selftext']"
   ]
  },
  {
   "cell_type": "code",
   "execution_count": 25,
   "metadata": {},
   "outputs": [
    {
     "data": {
      "text/plain": [
       "(30, 101)"
      ]
     },
     "execution_count": 25,
     "metadata": {},
     "output_type": "execute_result"
    }
   ],
   "source": [
    "# Check for duplicates again and get the number of duplicated posts\n",
    "suicide_join_dup = suicide[suicide.duplicated(['title_selftext'])]\n",
    "suicide_join_dup.shape"
   ]
  },
  {
   "cell_type": "code",
   "execution_count": 26,
   "metadata": {
    "scrolled": true
   },
   "outputs": [
    {
     "data": {
      "text/plain": [
       "(980, 101)"
      ]
     },
     "execution_count": 26,
     "metadata": {},
     "output_type": "execute_result"
    }
   ],
   "source": [
    "# Drop duplicates\n",
    "suicide.drop_duplicates(subset='title_selftext', keep='first', inplace=True)\n",
    "# Check shape of depression df after dropping\n",
    "suicide.shape"
   ]
  },
  {
   "cell_type": "code",
   "execution_count": 27,
   "metadata": {
    "scrolled": true
   },
   "outputs": [
    {
     "data": {
      "text/html": [
       "<div>\n",
       "<style scoped>\n",
       "    .dataframe tbody tr th:only-of-type {\n",
       "        vertical-align: middle;\n",
       "    }\n",
       "\n",
       "    .dataframe tbody tr th {\n",
       "        vertical-align: top;\n",
       "    }\n",
       "\n",
       "    .dataframe thead th {\n",
       "        text-align: right;\n",
       "    }\n",
       "</style>\n",
       "<table border=\"1\" class=\"dataframe\">\n",
       "  <thead>\n",
       "    <tr style=\"text-align: right;\">\n",
       "      <th></th>\n",
       "      <th>approved_at_utc</th>\n",
       "      <th>subreddit</th>\n",
       "      <th>selftext</th>\n",
       "      <th>author_fullname</th>\n",
       "      <th>saved</th>\n",
       "      <th>mod_reason_title</th>\n",
       "      <th>gilded</th>\n",
       "      <th>clicked</th>\n",
       "      <th>title</th>\n",
       "      <th>link_flair_richtext</th>\n",
       "      <th>...</th>\n",
       "      <th>parent_whitelist_status</th>\n",
       "      <th>stickied</th>\n",
       "      <th>url</th>\n",
       "      <th>subreddit_subscribers</th>\n",
       "      <th>created_utc</th>\n",
       "      <th>num_crossposts</th>\n",
       "      <th>media</th>\n",
       "      <th>is_video</th>\n",
       "      <th>author_cakeday</th>\n",
       "      <th>title_selftext</th>\n",
       "    </tr>\n",
       "  </thead>\n",
       "  <tbody>\n",
       "    <tr>\n",
       "      <th>0</th>\n",
       "      <td>NaN</td>\n",
       "      <td>SuicideWatch</td>\n",
       "      <td>We've been seeing a worrying increase in pro-s...</td>\n",
       "      <td>t2_1t70</td>\n",
       "      <td>False</td>\n",
       "      <td>NaN</td>\n",
       "      <td>1</td>\n",
       "      <td>False</td>\n",
       "      <td>New wiki on how to avoid accidentally encourag...</td>\n",
       "      <td>[]</td>\n",
       "      <td>...</td>\n",
       "      <td>no_ads</td>\n",
       "      <td>True</td>\n",
       "      <td>https://www.reddit.com/r/SuicideWatch/comments...</td>\n",
       "      <td>188688</td>\n",
       "      <td>1.567526e+09</td>\n",
       "      <td>0</td>\n",
       "      <td>NaN</td>\n",
       "      <td>False</td>\n",
       "      <td>NaN</td>\n",
       "      <td>New wiki on how to avoid accidentally encourag...</td>\n",
       "    </tr>\n",
       "    <tr>\n",
       "      <th>1</th>\n",
       "      <td>NaN</td>\n",
       "      <td>SuicideWatch</td>\n",
       "      <td>If you want to recognise an occasion, please d...</td>\n",
       "      <td>t2_1t70</td>\n",
       "      <td>False</td>\n",
       "      <td>NaN</td>\n",
       "      <td>0</td>\n",
       "      <td>False</td>\n",
       "      <td>Reminder: Absolutely no activism of any kind i...</td>\n",
       "      <td>[]</td>\n",
       "      <td>...</td>\n",
       "      <td>no_ads</td>\n",
       "      <td>True</td>\n",
       "      <td>https://www.reddit.com/r/SuicideWatch/comments...</td>\n",
       "      <td>188688</td>\n",
       "      <td>1.568093e+09</td>\n",
       "      <td>0</td>\n",
       "      <td>NaN</td>\n",
       "      <td>False</td>\n",
       "      <td>NaN</td>\n",
       "      <td>Reminder: Absolutely no activism of any kind i...</td>\n",
       "    </tr>\n",
       "    <tr>\n",
       "      <th>2</th>\n",
       "      <td>NaN</td>\n",
       "      <td>SuicideWatch</td>\n",
       "      <td>Please, take a moment to listen.\\n\\nI cannot s...</td>\n",
       "      <td>t2_5nixf695</td>\n",
       "      <td>False</td>\n",
       "      <td>NaN</td>\n",
       "      <td>1</td>\n",
       "      <td>False</td>\n",
       "      <td>I ask you kindly to stop what you are doing, m...</td>\n",
       "      <td>[]</td>\n",
       "      <td>...</td>\n",
       "      <td>no_ads</td>\n",
       "      <td>False</td>\n",
       "      <td>https://www.reddit.com/r/SuicideWatch/comments...</td>\n",
       "      <td>188688</td>\n",
       "      <td>1.583541e+09</td>\n",
       "      <td>0</td>\n",
       "      <td>NaN</td>\n",
       "      <td>False</td>\n",
       "      <td>NaN</td>\n",
       "      <td>I ask you kindly to stop what you are doing, m...</td>\n",
       "    </tr>\n",
       "    <tr>\n",
       "      <th>3</th>\n",
       "      <td>NaN</td>\n",
       "      <td>SuicideWatch</td>\n",
       "      <td>About a year ago I made a post on this subredd...</td>\n",
       "      <td>t2_1ycht3ps</td>\n",
       "      <td>False</td>\n",
       "      <td>NaN</td>\n",
       "      <td>0</td>\n",
       "      <td>False</td>\n",
       "      <td>To /u/Ryfflex - if you are still out there. Pl...</td>\n",
       "      <td>[]</td>\n",
       "      <td>...</td>\n",
       "      <td>no_ads</td>\n",
       "      <td>False</td>\n",
       "      <td>https://www.reddit.com/r/SuicideWatch/comments...</td>\n",
       "      <td>188688</td>\n",
       "      <td>1.583518e+09</td>\n",
       "      <td>0</td>\n",
       "      <td>NaN</td>\n",
       "      <td>False</td>\n",
       "      <td>NaN</td>\n",
       "      <td>To /u/Ryfflex - if you are still out there. Pl...</td>\n",
       "    </tr>\n",
       "    <tr>\n",
       "      <th>4</th>\n",
       "      <td>NaN</td>\n",
       "      <td>SuicideWatch</td>\n",
       "      <td>I see so many people just like me on this subr...</td>\n",
       "      <td>t2_4dhvypdd</td>\n",
       "      <td>False</td>\n",
       "      <td>NaN</td>\n",
       "      <td>0</td>\n",
       "      <td>False</td>\n",
       "      <td>For all those broken kids like me</td>\n",
       "      <td>[]</td>\n",
       "      <td>...</td>\n",
       "      <td>no_ads</td>\n",
       "      <td>False</td>\n",
       "      <td>https://www.reddit.com/r/SuicideWatch/comments...</td>\n",
       "      <td>188688</td>\n",
       "      <td>1.583548e+09</td>\n",
       "      <td>0</td>\n",
       "      <td>NaN</td>\n",
       "      <td>False</td>\n",
       "      <td>NaN</td>\n",
       "      <td>For all those broken kids like meI see so many...</td>\n",
       "    </tr>\n",
       "  </tbody>\n",
       "</table>\n",
       "<p>5 rows × 101 columns</p>\n",
       "</div>"
      ],
      "text/plain": [
       "   approved_at_utc     subreddit  \\\n",
       "0              NaN  SuicideWatch   \n",
       "1              NaN  SuicideWatch   \n",
       "2              NaN  SuicideWatch   \n",
       "3              NaN  SuicideWatch   \n",
       "4              NaN  SuicideWatch   \n",
       "\n",
       "                                            selftext author_fullname  saved  \\\n",
       "0  We've been seeing a worrying increase in pro-s...         t2_1t70  False   \n",
       "1  If you want to recognise an occasion, please d...         t2_1t70  False   \n",
       "2  Please, take a moment to listen.\\n\\nI cannot s...     t2_5nixf695  False   \n",
       "3  About a year ago I made a post on this subredd...     t2_1ycht3ps  False   \n",
       "4  I see so many people just like me on this subr...     t2_4dhvypdd  False   \n",
       "\n",
       "   mod_reason_title  gilded  clicked  \\\n",
       "0               NaN       1    False   \n",
       "1               NaN       0    False   \n",
       "2               NaN       1    False   \n",
       "3               NaN       0    False   \n",
       "4               NaN       0    False   \n",
       "\n",
       "                                               title link_flair_richtext  ...  \\\n",
       "0  New wiki on how to avoid accidentally encourag...                  []  ...   \n",
       "1  Reminder: Absolutely no activism of any kind i...                  []  ...   \n",
       "2  I ask you kindly to stop what you are doing, m...                  []  ...   \n",
       "3  To /u/Ryfflex - if you are still out there. Pl...                  []  ...   \n",
       "4                  For all those broken kids like me                  []  ...   \n",
       "\n",
       "  parent_whitelist_status  stickied  \\\n",
       "0                  no_ads      True   \n",
       "1                  no_ads      True   \n",
       "2                  no_ads     False   \n",
       "3                  no_ads     False   \n",
       "4                  no_ads     False   \n",
       "\n",
       "                                                 url  subreddit_subscribers  \\\n",
       "0  https://www.reddit.com/r/SuicideWatch/comments...                 188688   \n",
       "1  https://www.reddit.com/r/SuicideWatch/comments...                 188688   \n",
       "2  https://www.reddit.com/r/SuicideWatch/comments...                 188688   \n",
       "3  https://www.reddit.com/r/SuicideWatch/comments...                 188688   \n",
       "4  https://www.reddit.com/r/SuicideWatch/comments...                 188688   \n",
       "\n",
       "    created_utc  num_crossposts media  is_video author_cakeday  \\\n",
       "0  1.567526e+09               0   NaN     False            NaN   \n",
       "1  1.568093e+09               0   NaN     False            NaN   \n",
       "2  1.583541e+09               0   NaN     False            NaN   \n",
       "3  1.583518e+09               0   NaN     False            NaN   \n",
       "4  1.583548e+09               0   NaN     False            NaN   \n",
       "\n",
       "                                      title_selftext  \n",
       "0  New wiki on how to avoid accidentally encourag...  \n",
       "1  Reminder: Absolutely no activism of any kind i...  \n",
       "2  I ask you kindly to stop what you are doing, m...  \n",
       "3  To /u/Ryfflex - if you are still out there. Pl...  \n",
       "4  For all those broken kids like meI see so many...  \n",
       "\n",
       "[5 rows x 101 columns]"
      ]
     },
     "execution_count": 27,
     "metadata": {},
     "output_type": "execute_result"
    }
   ],
   "source": [
    "suicide.head()"
   ]
  },
  {
   "cell_type": "markdown",
   "metadata": {},
   "source": [
    "Remove the pinned posts from the moderator because the moderator's post does not represent a post of a person suffering from suicidal thoughts. "
   ]
  },
  {
   "cell_type": "code",
   "execution_count": 28,
   "metadata": {},
   "outputs": [],
   "source": [
    "# Remove the pinned posts from the moderator\n",
    "suicide.drop([0,1], inplace=True)"
   ]
  },
  {
   "cell_type": "markdown",
   "metadata": {},
   "source": [
    "### Preprocessing and Modelling"
   ]
  },
  {
   "cell_type": "code",
   "execution_count": 29,
   "metadata": {
    "scrolled": false
   },
   "outputs": [
    {
     "data": {
      "text/html": [
       "<div>\n",
       "<style scoped>\n",
       "    .dataframe tbody tr th:only-of-type {\n",
       "        vertical-align: middle;\n",
       "    }\n",
       "\n",
       "    .dataframe tbody tr th {\n",
       "        vertical-align: top;\n",
       "    }\n",
       "\n",
       "    .dataframe thead th {\n",
       "        text-align: right;\n",
       "    }\n",
       "</style>\n",
       "<table border=\"1\" class=\"dataframe\">\n",
       "  <thead>\n",
       "    <tr style=\"text-align: right;\">\n",
       "      <th></th>\n",
       "      <th>approved_at_utc</th>\n",
       "      <th>subreddit</th>\n",
       "      <th>selftext</th>\n",
       "      <th>author_fullname</th>\n",
       "      <th>saved</th>\n",
       "      <th>mod_reason_title</th>\n",
       "      <th>gilded</th>\n",
       "      <th>clicked</th>\n",
       "      <th>title</th>\n",
       "      <th>link_flair_richtext</th>\n",
       "      <th>...</th>\n",
       "      <th>parent_whitelist_status</th>\n",
       "      <th>stickied</th>\n",
       "      <th>url</th>\n",
       "      <th>subreddit_subscribers</th>\n",
       "      <th>created_utc</th>\n",
       "      <th>num_crossposts</th>\n",
       "      <th>media</th>\n",
       "      <th>is_video</th>\n",
       "      <th>author_cakeday</th>\n",
       "      <th>title_selftext</th>\n",
       "    </tr>\n",
       "  </thead>\n",
       "  <tbody>\n",
       "    <tr>\n",
       "      <th>0</th>\n",
       "      <td>NaN</td>\n",
       "      <td>SuicideWatch</td>\n",
       "      <td>Please, take a moment to listen.\\n\\nI cannot s...</td>\n",
       "      <td>t2_5nixf695</td>\n",
       "      <td>False</td>\n",
       "      <td>NaN</td>\n",
       "      <td>1</td>\n",
       "      <td>False</td>\n",
       "      <td>I ask you kindly to stop what you are doing, m...</td>\n",
       "      <td>[]</td>\n",
       "      <td>...</td>\n",
       "      <td>no_ads</td>\n",
       "      <td>False</td>\n",
       "      <td>https://www.reddit.com/r/SuicideWatch/comments...</td>\n",
       "      <td>188688</td>\n",
       "      <td>1.583541e+09</td>\n",
       "      <td>0</td>\n",
       "      <td>NaN</td>\n",
       "      <td>False</td>\n",
       "      <td>NaN</td>\n",
       "      <td>I ask you kindly to stop what you are doing, m...</td>\n",
       "    </tr>\n",
       "    <tr>\n",
       "      <th>1</th>\n",
       "      <td>NaN</td>\n",
       "      <td>SuicideWatch</td>\n",
       "      <td>About a year ago I made a post on this subredd...</td>\n",
       "      <td>t2_1ycht3ps</td>\n",
       "      <td>False</td>\n",
       "      <td>NaN</td>\n",
       "      <td>0</td>\n",
       "      <td>False</td>\n",
       "      <td>To /u/Ryfflex - if you are still out there. Pl...</td>\n",
       "      <td>[]</td>\n",
       "      <td>...</td>\n",
       "      <td>no_ads</td>\n",
       "      <td>False</td>\n",
       "      <td>https://www.reddit.com/r/SuicideWatch/comments...</td>\n",
       "      <td>188688</td>\n",
       "      <td>1.583518e+09</td>\n",
       "      <td>0</td>\n",
       "      <td>NaN</td>\n",
       "      <td>False</td>\n",
       "      <td>NaN</td>\n",
       "      <td>To /u/Ryfflex - if you are still out there. Pl...</td>\n",
       "    </tr>\n",
       "    <tr>\n",
       "      <th>2</th>\n",
       "      <td>NaN</td>\n",
       "      <td>SuicideWatch</td>\n",
       "      <td>I see so many people just like me on this subr...</td>\n",
       "      <td>t2_4dhvypdd</td>\n",
       "      <td>False</td>\n",
       "      <td>NaN</td>\n",
       "      <td>0</td>\n",
       "      <td>False</td>\n",
       "      <td>For all those broken kids like me</td>\n",
       "      <td>[]</td>\n",
       "      <td>...</td>\n",
       "      <td>no_ads</td>\n",
       "      <td>False</td>\n",
       "      <td>https://www.reddit.com/r/SuicideWatch/comments...</td>\n",
       "      <td>188688</td>\n",
       "      <td>1.583548e+09</td>\n",
       "      <td>0</td>\n",
       "      <td>NaN</td>\n",
       "      <td>False</td>\n",
       "      <td>NaN</td>\n",
       "      <td>For all those broken kids like meI see so many...</td>\n",
       "    </tr>\n",
       "    <tr>\n",
       "      <th>3</th>\n",
       "      <td>NaN</td>\n",
       "      <td>SuicideWatch</td>\n",
       "      <td>I can’t tolerate anybody. I hate the sound of ...</td>\n",
       "      <td>t2_5flkjo17</td>\n",
       "      <td>False</td>\n",
       "      <td>NaN</td>\n",
       "      <td>0</td>\n",
       "      <td>False</td>\n",
       "      <td>Is anyone angry and bitter all the time?</td>\n",
       "      <td>[]</td>\n",
       "      <td>...</td>\n",
       "      <td>no_ads</td>\n",
       "      <td>False</td>\n",
       "      <td>https://www.reddit.com/r/SuicideWatch/comments...</td>\n",
       "      <td>188688</td>\n",
       "      <td>1.583534e+09</td>\n",
       "      <td>0</td>\n",
       "      <td>NaN</td>\n",
       "      <td>False</td>\n",
       "      <td>NaN</td>\n",
       "      <td>Is anyone angry and bitter all the time?I can’...</td>\n",
       "    </tr>\n",
       "    <tr>\n",
       "      <th>4</th>\n",
       "      <td>NaN</td>\n",
       "      <td>SuicideWatch</td>\n",
       "      <td></td>\n",
       "      <td>t2_5nc0f3ro</td>\n",
       "      <td>False</td>\n",
       "      <td>NaN</td>\n",
       "      <td>0</td>\n",
       "      <td>False</td>\n",
       "      <td>NOW I COULD USE SOMEONE TO TALK TO</td>\n",
       "      <td>[]</td>\n",
       "      <td>...</td>\n",
       "      <td>no_ads</td>\n",
       "      <td>False</td>\n",
       "      <td>https://www.reddit.com/r/SuicideWatch/comments...</td>\n",
       "      <td>188688</td>\n",
       "      <td>1.583551e+09</td>\n",
       "      <td>0</td>\n",
       "      <td>NaN</td>\n",
       "      <td>False</td>\n",
       "      <td>NaN</td>\n",
       "      <td>NOW I COULD USE SOMEONE TO TALK TO</td>\n",
       "    </tr>\n",
       "  </tbody>\n",
       "</table>\n",
       "<p>5 rows × 101 columns</p>\n",
       "</div>"
      ],
      "text/plain": [
       "   approved_at_utc     subreddit  \\\n",
       "0              NaN  SuicideWatch   \n",
       "1              NaN  SuicideWatch   \n",
       "2              NaN  SuicideWatch   \n",
       "3              NaN  SuicideWatch   \n",
       "4              NaN  SuicideWatch   \n",
       "\n",
       "                                            selftext author_fullname  saved  \\\n",
       "0  Please, take a moment to listen.\\n\\nI cannot s...     t2_5nixf695  False   \n",
       "1  About a year ago I made a post on this subredd...     t2_1ycht3ps  False   \n",
       "2  I see so many people just like me on this subr...     t2_4dhvypdd  False   \n",
       "3  I can’t tolerate anybody. I hate the sound of ...     t2_5flkjo17  False   \n",
       "4                                                        t2_5nc0f3ro  False   \n",
       "\n",
       "   mod_reason_title  gilded  clicked  \\\n",
       "0               NaN       1    False   \n",
       "1               NaN       0    False   \n",
       "2               NaN       0    False   \n",
       "3               NaN       0    False   \n",
       "4               NaN       0    False   \n",
       "\n",
       "                                               title link_flair_richtext  ...  \\\n",
       "0  I ask you kindly to stop what you are doing, m...                  []  ...   \n",
       "1  To /u/Ryfflex - if you are still out there. Pl...                  []  ...   \n",
       "2                  For all those broken kids like me                  []  ...   \n",
       "3           Is anyone angry and bitter all the time?                  []  ...   \n",
       "4                 NOW I COULD USE SOMEONE TO TALK TO                  []  ...   \n",
       "\n",
       "  parent_whitelist_status  stickied  \\\n",
       "0                  no_ads     False   \n",
       "1                  no_ads     False   \n",
       "2                  no_ads     False   \n",
       "3                  no_ads     False   \n",
       "4                  no_ads     False   \n",
       "\n",
       "                                                 url  subreddit_subscribers  \\\n",
       "0  https://www.reddit.com/r/SuicideWatch/comments...                 188688   \n",
       "1  https://www.reddit.com/r/SuicideWatch/comments...                 188688   \n",
       "2  https://www.reddit.com/r/SuicideWatch/comments...                 188688   \n",
       "3  https://www.reddit.com/r/SuicideWatch/comments...                 188688   \n",
       "4  https://www.reddit.com/r/SuicideWatch/comments...                 188688   \n",
       "\n",
       "    created_utc  num_crossposts media  is_video author_cakeday  \\\n",
       "0  1.583541e+09               0   NaN     False            NaN   \n",
       "1  1.583518e+09               0   NaN     False            NaN   \n",
       "2  1.583548e+09               0   NaN     False            NaN   \n",
       "3  1.583534e+09               0   NaN     False            NaN   \n",
       "4  1.583551e+09               0   NaN     False            NaN   \n",
       "\n",
       "                                      title_selftext  \n",
       "0  I ask you kindly to stop what you are doing, m...  \n",
       "1  To /u/Ryfflex - if you are still out there. Pl...  \n",
       "2  For all those broken kids like meI see so many...  \n",
       "3  Is anyone angry and bitter all the time?I can’...  \n",
       "4                 NOW I COULD USE SOMEONE TO TALK TO  \n",
       "\n",
       "[5 rows x 101 columns]"
      ]
     },
     "execution_count": 29,
     "metadata": {},
     "output_type": "execute_result"
    }
   ],
   "source": [
    "# Concatenate the two dataframes to be processed together\n",
    "df = pd.concat([suicide, depression], axis=0, ignore_index=True)\n",
    "df.head()"
   ]
  },
  {
   "cell_type": "markdown",
   "metadata": {},
   "source": [
    "To predict a binary variable, set SuicideWatch subreddit as 1 and depression as 0"
   ]
  },
  {
   "cell_type": "code",
   "execution_count": 30,
   "metadata": {},
   "outputs": [],
   "source": [
    "df['suicide'] = df['subreddit'].apply(lambda x: 1 if x=='SuicideWatch' else 0)"
   ]
  },
  {
   "cell_type": "markdown",
   "metadata": {},
   "source": [
    "#### Tokenizing\n",
    "\n",
    "We will start with tokenizing, lowercasing, removing stopwords and saving the tokens into a list to be lemmatized and stemmed later. "
   ]
  },
  {
   "cell_type": "code",
   "execution_count": 31,
   "metadata": {},
   "outputs": [],
   "source": [
    "# Instantiate Tokenizer\n",
    "tokenizer = RegexpTokenizer(r'\\w+')\n",
    "tokens = []\n",
    "\n",
    "for i in range(len(df['title_selftext'])):\n",
    "    loop_tokens = tokenizer.tokenize(df['title_selftext'].iloc[i].lower())\n",
    "    \n",
    "    for j, token in enumerate(loop_tokens):\n",
    "            # Remove non-letters\n",
    "            re.sub('[^a-zA-Z]', '', token)\n",
    "        \n",
    "            # Replace url with empty string\n",
    "            if 'http' in token:\n",
    "                loop_tokens[j] = ''\n",
    "                \n",
    "            # Remove stopwords   \n",
    "            if token in stopwords.words('english'):\n",
    "                loop_tokens[j] = ''\n",
    "                \n",
    "    tokens.append(loop_tokens)"
   ]
  },
  {
   "cell_type": "code",
   "execution_count": 32,
   "metadata": {},
   "outputs": [
    {
     "data": {
      "text/plain": [
       "['', '', '', 'broken', 'kids', 'like', 'mei', 'see', '', 'many']"
      ]
     },
     "execution_count": 32,
     "metadata": {},
     "output_type": "execute_result"
    }
   ],
   "source": [
    "# Check token\n",
    "tokens[2][:10]"
   ]
  },
  {
   "cell_type": "markdown",
   "metadata": {},
   "source": [
    "#### Lemmatizing\n",
    "\n",
    "While Stemming and Lemmatization both generate the root form of the inflected words, stem might not be an actual word whereas, lemma is an actual language word. \n",
    "\n",
    "Both of these techniques are designed with recall in mind, and precision tends to suffer as a result. In the case of depression and suicide, we want a recall near 1.0 — we want to find all patients who actually might commit suicide — and we can accept a lower precision since extra attention given to an individual suffering from depression would not be harmful. \n",
    "\n",
    "So we will try cleaning the data with both Lemmatization and Stemming and compare the results."
   ]
  },
  {
   "cell_type": "code",
   "execution_count": 33,
   "metadata": {},
   "outputs": [
    {
     "data": {
      "text/plain": [
       "['', '', '', 'broken', 'kid', 'like', 'mei', 'see', '', 'many']"
      ]
     },
     "execution_count": 33,
     "metadata": {},
     "output_type": "execute_result"
    }
   ],
   "source": [
    "# Instantiate Lemmatizer\n",
    "lem = WordNetLemmatizer()\n",
    "\n",
    "posts_token_lem = []\n",
    "for post in tokens:\n",
    "    post_lem = []\n",
    "    \n",
    "    for word in post:\n",
    "        #print(word)\n",
    "        word_lem = lem.lemmatize(word) # get lemmatized word\n",
    "        post_lem.append(word_lem) # add to post list\n",
    "    posts_token_lem.append(post_lem)  # add post list to lemma matrix\n",
    "\n",
    "# Check lemmatized token\n",
    "posts_token_lem[2][:10]"
   ]
  },
  {
   "cell_type": "code",
   "execution_count": 34,
   "metadata": {},
   "outputs": [],
   "source": [
    "# Format tokenized lemma for vectorizer i.e. change to a list of strings\n",
    "lem_list = []\n",
    "\n",
    "for post in posts_token_lem:\n",
    "    lem_list.append(' '.join(post))"
   ]
  },
  {
   "cell_type": "markdown",
   "metadata": {},
   "source": [
    "#### Stemming\n",
    "We will improve the modeling ability of our strings by using a stemmer, which trims characters from each word to convert it to a stem. Words will register as equivalent during feature extraction if they share a stem."
   ]
  },
  {
   "cell_type": "code",
   "execution_count": 35,
   "metadata": {},
   "outputs": [
    {
     "data": {
      "text/plain": [
       "['', '', '', 'broken', 'kid', 'like', 'mei', 'see', '', 'mani']"
      ]
     },
     "execution_count": 35,
     "metadata": {},
     "output_type": "execute_result"
    }
   ],
   "source": [
    "# Instantiate Stemmer\n",
    "stem = PorterStemmer()\n",
    "\n",
    "posts_token_stem = []\n",
    "for post in tokens:\n",
    "    post_stem = [] # empty post stems\n",
    "    for word in post:\n",
    "        #print(word)\n",
    "        word_stem = stem.stem(word) # get stemmed word\n",
    "        post_stem.append(word_stem) # add to post list\n",
    "    posts_token_stem.append(post_stem)  # add post list to stem matrix\n",
    "\n",
    "# Check stemmed token\n",
    "posts_token_stem[2][:10]"
   ]
  },
  {
   "cell_type": "code",
   "execution_count": 36,
   "metadata": {},
   "outputs": [],
   "source": [
    "# Format tokenized stems for vectorizer i.e. change to a list of strings\n",
    "stem_list = []\n",
    "\n",
    "for post in posts_token_stem:\n",
    "    stem_list.append(' '.join(post))"
   ]
  },
  {
   "cell_type": "markdown",
   "metadata": {},
   "source": [
    "#### Save preprocessed data to csv"
   ]
  },
  {
   "cell_type": "code",
   "execution_count": 37,
   "metadata": {},
   "outputs": [],
   "source": [
    "df_prep = pd.DataFrame(data=[lem_list, stem_list], index=['post_lem','post_stem']).T"
   ]
  },
  {
   "cell_type": "code",
   "execution_count": 38,
   "metadata": {
    "scrolled": true
   },
   "outputs": [
    {
     "data": {
      "text/html": [
       "<div>\n",
       "<style scoped>\n",
       "    .dataframe tbody tr th:only-of-type {\n",
       "        vertical-align: middle;\n",
       "    }\n",
       "\n",
       "    .dataframe tbody tr th {\n",
       "        vertical-align: top;\n",
       "    }\n",
       "\n",
       "    .dataframe thead th {\n",
       "        text-align: right;\n",
       "    }\n",
       "</style>\n",
       "<table border=\"1\" class=\"dataframe\">\n",
       "  <thead>\n",
       "    <tr style=\"text-align: right;\">\n",
       "      <th></th>\n",
       "      <th>post_lem</th>\n",
       "      <th>post_stem</th>\n",
       "    </tr>\n",
       "  </thead>\n",
       "  <tbody>\n",
       "    <tr>\n",
       "      <th>0</th>\n",
       "      <td>ask  kindly  stop     make tea  read  text  p...</td>\n",
       "      <td>ask  kindli  stop     make tea  read  text  p...</td>\n",
       "    </tr>\n",
       "    <tr>\n",
       "      <th>1</th>\n",
       "      <td>u ryfflex    still   please let  know   year ...</td>\n",
       "      <td>u ryfflex    still   pleas let  know   year a...</td>\n",
       "    </tr>\n",
       "    <tr>\n",
       "      <th>2</th>\n",
       "      <td>broken kid like mei see  many people  like ...</td>\n",
       "      <td>broken kid like mei see  mani peopl  like  ...</td>\n",
       "    </tr>\n",
       "    <tr>\n",
       "      <th>3</th>\n",
       "      <td>anyone angry  bitter   time    tolerate anybo...</td>\n",
       "      <td>anyon angri  bitter   time    toler anybodi  ...</td>\n",
       "    </tr>\n",
       "    <tr>\n",
       "      <th>4</th>\n",
       "      <td>could use someone  talk</td>\n",
       "      <td>could use someon  talk</td>\n",
       "    </tr>\n",
       "  </tbody>\n",
       "</table>\n",
       "</div>"
      ],
      "text/plain": [
       "                                            post_lem  \\\n",
       "0   ask  kindly  stop     make tea  read  text  p...   \n",
       "1   u ryfflex    still   please let  know   year ...   \n",
       "2     broken kid like mei see  many people  like ...   \n",
       "3   anyone angry  bitter   time    tolerate anybo...   \n",
       "4                           could use someone  talk    \n",
       "\n",
       "                                           post_stem  \n",
       "0   ask  kindli  stop     make tea  read  text  p...  \n",
       "1   u ryfflex    still   pleas let  know   year a...  \n",
       "2     broken kid like mei see  mani peopl  like  ...  \n",
       "3   anyon angri  bitter   time    toler anybodi  ...  \n",
       "4                            could use someon  talk   "
      ]
     },
     "execution_count": 38,
     "metadata": {},
     "output_type": "execute_result"
    }
   ],
   "source": [
    "df_prep.head()"
   ]
  },
  {
   "cell_type": "code",
   "execution_count": 39,
   "metadata": {},
   "outputs": [
    {
     "data": {
      "text/html": [
       "<div>\n",
       "<style scoped>\n",
       "    .dataframe tbody tr th:only-of-type {\n",
       "        vertical-align: middle;\n",
       "    }\n",
       "\n",
       "    .dataframe tbody tr th {\n",
       "        vertical-align: top;\n",
       "    }\n",
       "\n",
       "    .dataframe thead th {\n",
       "        text-align: right;\n",
       "    }\n",
       "</style>\n",
       "<table border=\"1\" class=\"dataframe\">\n",
       "  <thead>\n",
       "    <tr style=\"text-align: right;\">\n",
       "      <th></th>\n",
       "      <th>post_lem</th>\n",
       "      <th>post_stem</th>\n",
       "      <th>suicide</th>\n",
       "    </tr>\n",
       "  </thead>\n",
       "  <tbody>\n",
       "    <tr>\n",
       "      <th>0</th>\n",
       "      <td>ask  kindly  stop     make tea  read  text  p...</td>\n",
       "      <td>ask  kindli  stop     make tea  read  text  p...</td>\n",
       "      <td>1</td>\n",
       "    </tr>\n",
       "    <tr>\n",
       "      <th>1</th>\n",
       "      <td>u ryfflex    still   please let  know   year ...</td>\n",
       "      <td>u ryfflex    still   pleas let  know   year a...</td>\n",
       "      <td>1</td>\n",
       "    </tr>\n",
       "    <tr>\n",
       "      <th>2</th>\n",
       "      <td>broken kid like mei see  many people  like ...</td>\n",
       "      <td>broken kid like mei see  mani peopl  like  ...</td>\n",
       "      <td>1</td>\n",
       "    </tr>\n",
       "    <tr>\n",
       "      <th>3</th>\n",
       "      <td>anyone angry  bitter   time    tolerate anybo...</td>\n",
       "      <td>anyon angri  bitter   time    toler anybodi  ...</td>\n",
       "      <td>1</td>\n",
       "    </tr>\n",
       "    <tr>\n",
       "      <th>4</th>\n",
       "      <td>could use someone  talk</td>\n",
       "      <td>could use someon  talk</td>\n",
       "      <td>1</td>\n",
       "    </tr>\n",
       "  </tbody>\n",
       "</table>\n",
       "</div>"
      ],
      "text/plain": [
       "                                            post_lem  \\\n",
       "0   ask  kindly  stop     make tea  read  text  p...   \n",
       "1   u ryfflex    still   please let  know   year ...   \n",
       "2     broken kid like mei see  many people  like ...   \n",
       "3   anyone angry  bitter   time    tolerate anybo...   \n",
       "4                           could use someone  talk    \n",
       "\n",
       "                                           post_stem  suicide  \n",
       "0   ask  kindli  stop     make tea  read  text  p...        1  \n",
       "1   u ryfflex    still   pleas let  know   year a...        1  \n",
       "2     broken kid like mei see  mani peopl  like  ...        1  \n",
       "3   anyon angri  bitter   time    toler anybodi  ...        1  \n",
       "4                            could use someon  talk         1  "
      ]
     },
     "execution_count": 39,
     "metadata": {},
     "output_type": "execute_result"
    }
   ],
   "source": [
    "# Add in target variable\n",
    "df_prep['suicide'] = df['suicide']\n",
    "df_prep.head()"
   ]
  },
  {
   "cell_type": "code",
   "execution_count": 40,
   "metadata": {},
   "outputs": [],
   "source": [
    "# Save to datasets folder\n",
    "df_prep.to_csv('../datasets/preprocessed.csv', index=False)"
   ]
  },
  {
   "cell_type": "markdown",
   "metadata": {},
   "source": [
    "## To be Continued in Notebook 2: EDA and Model Selection"
   ]
  },
  {
   "cell_type": "code",
   "execution_count": null,
   "metadata": {},
   "outputs": [],
   "source": []
  }
 ],
 "metadata": {
  "kernelspec": {
   "display_name": "Python 3",
   "language": "python",
   "name": "python3"
  },
  "language_info": {
   "codemirror_mode": {
    "name": "ipython",
    "version": 3
   },
   "file_extension": ".py",
   "mimetype": "text/x-python",
   "name": "python",
   "nbconvert_exporter": "python",
   "pygments_lexer": "ipython3",
   "version": "3.7.3"
  }
 },
 "nbformat": 4,
 "nbformat_minor": 2
}
